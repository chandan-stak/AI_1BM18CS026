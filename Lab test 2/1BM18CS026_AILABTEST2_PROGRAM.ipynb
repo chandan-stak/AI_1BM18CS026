{
 "cells": [
  {
   "cell_type": "code",
   "execution_count": 1,
   "metadata": {},
   "outputs": [],
   "source": [
    "import re"
   ]
  },
  {
   "cell_type": "code",
   "execution_count": 2,
   "metadata": {},
   "outputs": [],
   "source": [
    "def negate(term):\n",
    "    return f'~{term}' if term[0] != '~' else term[1]\n",
    "\n",
    "def reverse(clause):\n",
    "    if len(clause) > 2:\n",
    "        t = split_terms(clause)\n",
    "        return f'{t[1]}v{t[0]}'\n",
    "    return ''"
   ]
  },
  {
   "cell_type": "code",
   "execution_count": 3,
   "metadata": {},
   "outputs": [],
   "source": [
    "def split_terms(rule):\n",
    "    exp = '(~*[PQRS])'\n",
    "    terms = re.findall(exp, rule)\n",
    "    return terms"
   ]
  },
  {
   "cell_type": "code",
   "execution_count": 4,
   "metadata": {},
   "outputs": [],
   "source": [
    "def contradiction(query, clause):\n",
    "    contradictions = [ f'{query}v{negate(query)}', f'{negate(query)}v{query}']\n",
    "    return clause in contradictions or reverse(clause) in contradictions"
   ]
  },
  {
   "cell_type": "code",
   "execution_count": 5,
   "metadata": {},
   "outputs": [],
   "source": [
    "def resolve(kb, query):\n",
    "    temp = kb.copy()\n",
    "    temp += [negate(query)]\n",
    "    steps = dict()\n",
    "    for rule in temp:\n",
    "        steps[rule] = 'Given.'\n",
    "    steps[negate(query)] = 'Negated conclusion.'\n",
    "    i = 0\n",
    "    while i < len(temp):\n",
    "        n = len(temp)\n",
    "        j = (i + 1) % n\n",
    "        clauses = []\n",
    "        while j != i:   \n",
    "            terms1 = split_terms(temp[i])\n",
    "            terms2 = split_terms(temp[j])\n",
    "            for c in terms1:\n",
    "                if negate(c) in terms2:\n",
    "                    t1 = [t for t in terms1 if t != c]\n",
    "                    t2 = [t for t in terms2 if t != negate(c)]\n",
    "                    gen = t1 + t2\n",
    "                    if len(gen) == 2:\n",
    "                        if gen[0] != negate(gen[1]):\n",
    "                            clauses += [f'{gen[0]}v{gen[1]}']\n",
    "                        else:\n",
    "                            if contradiction(query,f'{gen[0]}v{gen[1]}'):\n",
    "                                temp.append(f'{gen[0]}v{gen[1]}')\n",
    "                                steps[''] = f\"Resolved {temp[i]} and {temp[j]} to {temp[-1]}, which is in turn null. \\\n",
    "                                \\nA contradiction is found when {negate(query)} is assumed as true. Hence, {query} is true.\"\n",
    "                                return steps\n",
    "                    elif len(gen) == 1:\n",
    "                        clauses += [f'{gen[0]}']\n",
    "                    else:\n",
    "                        if contradiction(query,f'{terms1[0]}v{terms2[0]}'):\n",
    "                            temp.append(f'{terms1[0]}v{terms2[0]}')\n",
    "                            steps[''] = f\"Resolved {temp[i]} and {temp[j]} to {temp[-1]}, which is in turn null. \\\n",
    "                            \\nA contradiction is found when {negate(query)} is assumed as true. Hence, {query} is true.\"\n",
    "                            return steps\n",
    "            for clause in clauses:\n",
    "                if clause not in temp and clause != reverse(clause) and reverse(clause) not in temp:\n",
    "                    temp.append(clause)\n",
    "                    steps[clause] = f'Resolved from {temp[i]} and {temp[j]}.'\n",
    "            j = (j + 1) % n\n",
    "        i += 1\n",
    "    return steps"
   ]
  },
  {
   "cell_type": "code",
   "execution_count": 6,
   "metadata": {},
   "outputs": [],
   "source": [
    "def resolution(kb, query):\n",
    "    kb = kb.split(' ')\n",
    "    steps = resolve(kb, query)\n",
    "    print('\\nStep\\t|Clause\\t|Derivation\\t')\n",
    "    print('-' * 30)\n",
    "    i = 1\n",
    "    for step in steps:\n",
    "        print(f' {i}.\\t| {step}\\t| {steps[step]}\\t')\n",
    "        i += 1"
   ]
  },
  {
   "cell_type": "code",
   "execution_count": 7,
   "metadata": {},
   "outputs": [],
   "source": [
    "def main():\n",
    "    print(\"Enter the kb:\")\n",
    "    kb = input()\n",
    "    print(\"Enter the query:\")\n",
    "    query = input()\n",
    "    resolution(kb,query)"
   ]
  },
  {
   "cell_type": "code",
   "execution_count": 13,
   "metadata": {},
   "outputs": [
    {
     "name": "stdout",
     "output_type": "stream",
     "text": [
      "Enter the kb:\n",
      "~PvQ ~RvS\n",
      "Enter the query:\n",
      "~P^~RvQvS\n",
      "\n",
      "Step\t|Clause\t|Derivation\t\n",
      "------------------------------\n",
      " 1.\t| ~PvQ\t| Given.\t\n",
      " 2.\t| ~RvS\t| Given.\t\n",
      " 3.\t| P\t| Negated conclusion.\t\n",
      " 4.\t| Q\t| Resolved from ~PvQ and P.\t\n"
     ]
    }
   ],
   "source": [
    "main() #KB P->Q R->S #Query PvQ -> RvS"
   ]
  },
  {
   "cell_type": "code",
   "execution_count": null,
   "metadata": {},
   "outputs": [],
   "source": []
  }
 ],
 "metadata": {
  "kernelspec": {
   "display_name": "Python 3",
   "language": "python",
   "name": "python3"
  },
  "language_info": {
   "codemirror_mode": {
    "name": "ipython",
    "version": 3
   },
   "file_extension": ".py",
   "mimetype": "text/x-python",
   "name": "python",
   "nbconvert_exporter": "python",
   "pygments_lexer": "ipython3",
   "version": "3.8.3"
  }
 },
 "nbformat": 4,
 "nbformat_minor": 4
}
